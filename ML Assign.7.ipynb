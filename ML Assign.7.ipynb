{
 "cells": [
  {
   "cell_type": "code",
   "execution_count": 35,
   "metadata": {
    "collapsed": true
   },
   "outputs": [],
   "source": [
    "import pandas as pd\n",
    "import numpy as np\n",
    "import matplotlib.pyplot as plotx\n",
    "import seaborn as sns\n",
    "from numpy import genfromtxt\n",
    "from sklearn.naive_bayes import BernoulliNB\n",
    "from sklearn.metrics import confusion_matrix\n",
    "from sklearn.metrics import accuracy_score"
   ]
  },
  {
   "cell_type": "code",
   "execution_count": 36,
   "metadata": {
    "collapsed": true
   },
   "outputs": [],
   "source": [
    "vocabdf = pd.read_csv('vocabulary.csv')\n",
    "Xtestdf = pd.read_csv('XTest.csv')\n",
    "Xtraindf = pd.read_csv('XTrain.csv')\n",
    "ytestdf = pd.read_csv('yTest.csv')\n",
    "ytraindf = pd.read_csv('yTrain.csv')"
   ]
  },
  {
   "cell_type": "code",
   "execution_count": 37,
   "metadata": {
    "collapsed": true
   },
   "outputs": [],
   "source": [
    "Xtest = np.array(Xtestdf)\n",
    "Xtrain = np.array(Xtraindf)\n",
    "ytest = np.array(ytestdf)\n",
    "ytrain = np.array(ytraindf).ravel()"
   ]
  },
  {
   "cell_type": "code",
   "execution_count": 38,
   "metadata": {
    "collapsed": true
   },
   "outputs": [],
   "source": [
    "xx1 = genfromtxt('vocabulary.csv', delimiter = ',')\n",
    "xx2 = genfromtxt('XTest.csv', delimiter = ',' )\n",
    "xx3 = genfromtxt('XTrain.csv', delimiter = ',')\n",
    "xx4 = genfromtxt('yTest.csv', delimiter = ',')\n",
    "xx5 = genfromtxt('yTrain.csv', delimiter = ',')"
   ]
  },
  {
   "cell_type": "markdown",
   "metadata": {},
   "source": [
    "2 a)"
   ]
  },
  {
   "cell_type": "code",
   "execution_count": 39,
   "metadata": {},
   "outputs": [
    {
     "data": {
      "image/png": "[encoded data removed]",
      "text/plain": [
       "<matplotlib.figure.Figure at 0x1a1cd9b160>"
      ]
     },
     "metadata": {},
     "output_type": "display_data"
    }
   ],
   "source": [
    "#HeatMap\n",
    "nb = BernoulliNB(alpha = .000000001)\n",
    "nb.fit(Xtrain, ytrain)\n",
    "ypredict = nb.predict(Xtest)\n",
    "matrix = confusion_matrix(ytest, ypredict)\n",
    "sns.heatmap(matrix, annot = True, fmt = \"d\")\n",
    "plotx.ylabel('True Value')\n",
    "plotx.xlabel('Predicted Value')\n",
    "plotx.show()"
   ]
  },
  {
   "cell_type": "markdown",
   "metadata": {},
   "source": [
    "Create Matrices:\n"
   ]
  },
  {
   "cell_type": "code",
   "execution_count": 40,
   "metadata": {},
   "outputs": [
    {
     "data": {
      "text/plain": [
       "98"
      ]
     },
     "execution_count": 40,
     "metadata": {},
     "output_type": "execute_result"
    }
   ],
   "source": [
    "matrix[0][0] #The true negative"
   ]
  },
  {
   "cell_type": "code",
   "execution_count": 41,
   "metadata": {},
   "outputs": [
    {
     "data": {
      "text/plain": [
       "0"
      ]
     },
     "execution_count": 41,
     "metadata": {},
     "output_type": "execute_result"
    }
   ],
   "source": [
    "matrix[0][1] #The false postive"
   ]
  },
  {
   "cell_type": "code",
   "execution_count": 42,
   "metadata": {},
   "outputs": [
    {
     "data": {
      "text/plain": [
       "45"
      ]
     },
     "execution_count": 42,
     "metadata": {},
     "output_type": "execute_result"
    }
   ],
   "source": [
    "matrix[1][0] #The false negative"
   ]
  },
  {
   "cell_type": "code",
   "execution_count": 43,
   "metadata": {},
   "outputs": [
    {
     "data": {
      "text/plain": [
       "1"
      ]
     },
     "execution_count": 43,
     "metadata": {},
     "output_type": "execute_result"
    }
   ],
   "source": [
    "matrix[1][1] #The true positve"
   ]
  },
  {
   "cell_type": "markdown",
   "metadata": {},
   "source": [
    "2 b)\n"
   ]
  },
  {
   "cell_type": "code",
   "execution_count": 44,
   "metadata": {},
   "outputs": [
    {
     "name": "stdout",
     "output_type": "stream",
     "text": [
      "Precision Onion Pos 1.0\n",
      "Recall Onion Pos 0.0217391304348\n"
     ]
    }
   ],
   "source": [
    "precisionx = matrix[1][1] / (matrix[1][1] + matrix[0][1])\n",
    "print(\"Precision Onion Pos\", precisionx)\n",
    "\n",
    "recallx = matrix[1][1] / (matrix[1][1] + matrix[1][0])\n",
    "print(\"Recall Onion Pos\", recallx)"
   ]
  },
  {
   "cell_type": "markdown",
   "metadata": {},
   "source": [
    "2 c)\n"
   ]
  },
  {
   "cell_type": "code",
   "execution_count": 45,
   "metadata": {},
   "outputs": [
    {
     "name": "stdout",
     "output_type": "stream",
     "text": [
      "Precision Economist Pos 0.685314685315\n",
      "Recall Economist Pos 1.0\n"
     ]
    }
   ],
   "source": [
    "precisionx = matrix[0][0] / (matrix[0][0] + matrix[1][0])\n",
    "print(\"Precision Economist Pos\", precisionx)\n",
    "\n",
    "recallx = matrix[0][0] / (matrix[0][0] + matrix[0][1])\n",
    "print(\"Recall Economist Pos\",recallx)"
   ]
  },
  {
   "cell_type": "code",
   "execution_count": 46,
   "metadata": {},
   "outputs": [
    {
     "name": "stdout",
     "output_type": "stream",
     "text": [
      "Misclassification rate of Naive Bayes 0.3125\n"
     ]
    }
   ],
   "source": [
    "#Misclassification rate of Naive Bayes \n",
    "misclassificationX = 1 - accuracy_score(ytest, ypredict)\n",
    "print(\"Misclassification rate of Naive Bayes\" , misclassificationX)"
   ]
  },
  {
   "cell_type": "code",
   "execution_count": 47,
   "metadata": {},
   "outputs": [
    {
     "name": "stdout",
     "output_type": "stream",
     "text": [
      "Misclassification rate of Naive Bayes- Laplacian smoothing 0.138888888889\n"
     ]
    }
   ],
   "source": [
    "#Misclassification rate of Naive Bayes- Laplacian smoothing of 1.0? \n",
    "bern = BernoulliNB()\n",
    "fitb = bern.fit(Xtrain, ytrain)\n",
    "ypred = bern.predict(Xtest)\n",
    "\n",
    " \n",
    "misclass = 1 - accuracy_score(ytest, ypred)\n",
    "print(\"Misclassification rate of Naive Bayes- Laplacian smoothing\", misclass)"
   ]
  },
  {
   "cell_type": "code",
   "execution_count": 48,
   "metadata": {},
   "outputs": [
    {
     "name": "stdout",
     "output_type": "stream",
     "text": [
      "45th observation [1]\n",
      "Predicted class 1\n",
      "Estimated posterior [ 0.2652005  0.7347995]\n"
     ]
    }
   ],
   "source": [
    "print(\"45th observation\", ytest[44]) #45th observation\n",
    "print(\"Predicted class\", ypred[44]) #Predicted class\n",
    "prob_vec = bern.predict_proba(Xtest)\n",
    "print(\"Estimated posterior\", prob_vec[44]) #Estimated posterior probabilities for the 45th observation "
   ]
  },
  {
   "cell_type": "code",
   "execution_count": null,
   "metadata": {
    "collapsed": true
   },
   "outputs": [],
   "source": []
  },
  {
   "cell_type": "code",
   "execution_count": null,
   "metadata": {
    "collapsed": true
   },
   "outputs": [],
   "source": []
  },
  {
   "cell_type": "code",
   "execution_count": null,
   "metadata": {
    "collapsed": true
   },
   "outputs": [],
   "source": []
  },
  {
   "cell_type": "code",
   "execution_count": null,
   "metadata": {
    "collapsed": true
   },
   "outputs": [],
   "source": []
  }
 ],
 "metadata": {
  "kernelspec": {
   "display_name": "Python 3",
   "language": "python",
   "name": "python3"
  },
  "language_info": {
   "codemirror_mode": {
    "name": "ipython",
    "version": 3
   },
   "file_extension": ".py",
   "mimetype": "text/x-python",
   "name": "python",
   "nbconvert_exporter": "python",
   "pygments_lexer": "ipython3",
   "version": "3.6.3"
  }
 },
 "nbformat": 4,
 "nbformat_minor": 2
}
