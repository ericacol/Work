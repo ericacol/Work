{
 "cells": [
  {
   "cell_type": "markdown",
   "metadata": {},
   "source": [
    "# Top Models Enron Emails"
   ]
  },
  {
   "cell_type": "markdown",
   "metadata": {},
   "source": [
    "[Enron Email Dataset](https://www.cs.cmu.edu/~enron/)\n",
    "This project is based on the enron data found above. These are emails that contain a paragraph of words. There are 5171 documents."
   ]
  },
  {
   "cell_type": "markdown",
   "metadata": {},
   "source": [
    " ### Project 1 : Clustering emails using Gaussian Mixture Models\n",
    " \n",
    " "
   ]
  },
  {
   "cell_type": "markdown",
   "metadata": {},
   "source": [
    "### 1 : First I construct a list of processed documents"
   ]
  },
  {
   "cell_type": "code",
   "execution_count": 32,
   "metadata": {},
   "outputs": [],
   "source": [
    "import numpy as np\n",
    "import matplotlib.pyplot as plt\n",
    "import pandas as pd\n",
    "%matplotlib inline\n",
    "\n",
    "import re\n",
    "import string\n",
    "import codecs\n",
    "\n",
    "def makeWordList(path):\n",
    "    \n",
    "    with codecs.open(path, \"r\", encoding='utf-8', errors='ignore') as f:\n",
    "        corpus_text = f.read()\n",
    "\n",
    "    for c in string.punctuation:\n",
    "        corpus_text = corpus_text.replace(c, \"\")  # -- (1)\n",
    "    \n",
    "    text = re.sub(r'\\S*\\d\\S*', '', corpus_text) # -- (2)\n",
    "    text = re.sub(r'[^\\w\\s]', '', text)         # -- (3)\n",
    "    \n",
    "    text = text.lower().split()           # -- (4)         \n",
    "    \n",
    "    li = []\n",
    "    for token in text:\n",
    "        li.append(token)\n",
    "\n",
    "    return \" \".join(li)"
   ]
  },
  {
   "cell_type": "code",
   "execution_count": 33,
   "metadata": {},
   "outputs": [
    {
     "name": "stdout",
     "output_type": "stream",
     "text": [
      "subject re additional responsibility congratulations on this additional responsibility i will be more than happy to help support your new role in any way possible my apologies again for having to leave the staff meeting early yesterday susan enron north america corp from sally beck pm to mary solmonson hou ect ect brent a price hou ect ect bob shults hou ect ect sheila glover hou ect ect cc susan harrison hou ect ect subject additional responsibility two of you had to leave the staff meeting before this final discussion point and three of you were not in attendance so i wanted to send you the attached memo that i distributed at the end of the meeting this memo will be sent by rick causey via notes mail regarding an additional role that i will assume with regard to global operations i shared this in the staff meeting so that you would be the first to know i will still fulfill my role within ena as vp of energy operations i will not be going away this expanded responsibility should create addtional opportunities for operations personnel and will validate some of the global functions that we already provide to the organization\n"
     ]
    }
   ],
   "source": [
    "import os\n",
    "#os.chdir('/Users/ericacollins/')\n",
    "documents = []\n",
    "\n",
    "import glob\n",
    "for file in glob.glob('enron/*.txt'):\n",
    "    document = makeWordList(file)\n",
    "    documents.append(document)\n",
    "    \n",
    "print(documents[1])"
   ]
  },
  {
   "cell_type": "markdown",
   "metadata": {},
   "source": [
    "### 2 : I then convert these documents in a  Document Matrix"
   ]
  },
  {
   "cell_type": "code",
   "execution_count": 52,
   "metadata": {},
   "outputs": [
    {
     "name": "stdout",
     "output_type": "stream",
     "text": [
      "Number of Unique Words 1680\n",
      "This matrix contains a list of documents with 1680 words as features. If the word appears in the document a value    will be in that document cell at that word.\n"
     ]
    }
   ],
   "source": [
    "from sklearn.feature_extraction.text import TfidfVectorizer\n",
    "vectorizer = TfidfVectorizer(min_df=50,stop_words=\"english\",max_df=0.8)\n",
    "\n",
    "X = vectorizer.fit_transform(documents).toarray()\n",
    "B = vectorizer.fit(documents)\n",
    "#print(X.vocabulary_)\n",
    "\n",
    "\n",
    "vocabulary = vectorizer.vocabulary_\n",
    "\n",
    "#print(vocabulary)\n",
    "\n",
    "unique_words = list(vocabulary.keys())\n",
    "#print(len(vocabulary))\n",
    "print(\"Number of Unique Words\" ,len(unique_words))\n",
    "print(\"This matrix contains a list of documents with 1680 words as features. If the word appears in the document a value    will be in that document cell at that word.\")\n",
    "\n",
    "idf = vectorizer.idf_\n",
    "dict_weights = dict(zip(B.get_feature_names(), idf))\n",
    "#print(dict(zip(B.get_feature_names(), idf)))"
   ]
  },
  {
   "cell_type": "code",
   "execution_count": 53,
   "metadata": {},
   "outputs": [],
   "source": [
    "import operator\n",
    "sorted_x = sorted(dict_weights.items(), key=operator.itemgetter(1))\n",
    "sorted_x_reverse = sorted(dict_weights.items(), key=operator.itemgetter(1), reverse = True)\n",
    "#sorted_x_reverse"
   ]
  },
  {
   "cell_type": "markdown",
   "metadata": {},
   "source": [
    "### 3 : Perform Gaussian Mixture Model Clustering"
   ]
  },
  {
   "cell_type": "code",
   "execution_count": 54,
   "metadata": {},
   "outputs": [
    {
     "name": "stdout",
     "output_type": "stream",
     "text": [
      "<class 'numpy.ndarray'>\n"
     ]
    }
   ],
   "source": [
    "from sklearn.mixture import GaussianMixture\n",
    "\n",
    "gmm = GaussianMixture(n_components=3,  random_state=95865)\n",
    "gmm.fit(X)\n",
    "\n",
    "gmm_cluster_assignments = gmm.predict(X)\n",
    "\n",
    "#print(X.shape)\n",
    "#gmm_cluster_assignments\n",
    "print(type(gmm_cluster_assignments))\n",
    "\n"
   ]
  },
  {
   "cell_type": "code",
   "execution_count": 55,
   "metadata": {},
   "outputs": [
    {
     "name": "stdout",
     "output_type": "stream",
     "text": [
      "Cluster Assignments\n",
      "1 3945\n",
      "0 728\n",
      "2 497\n"
     ]
    }
   ],
   "source": [
    "m = list(gmm_cluster_assignments)\n",
    "from collections import Counter\n",
    "\n",
    "category = Counter(m)\n",
    "\n",
    "print(\"Cluster Assignments\")\n",
    "for key, value in category.most_common():\n",
    "        print(key, value)\n"
   ]
  },
  {
   "cell_type": "markdown",
   "metadata": {},
   "source": [
    "The GMM created 3 clusters. The document amounts for each cluster are listed above."
   ]
  },
  {
   "cell_type": "markdown",
   "metadata": {},
   "source": [
    "### 4 : Characterize the clusters"
   ]
  },
  {
   "cell_type": "code",
   "execution_count": 38,
   "metadata": {},
   "outputs": [],
   "source": [
    "def plot_spam_words_by_cluster(predicted, n_clusters, spam_indices, ham_indices):\n",
    "    import numpy as np\n",
    "    import matplotlib.pyplot as plt\n",
    "    \n",
    "    # Calculate mean TF-IDF features for each cluster\n",
    "    mean_tfidf_spam = []\n",
    "    mean_tfidf_ham = []\n",
    "    for spam in spam_indices:\n",
    "        mean_tfidf_spam.append([])\n",
    "    for ham in ham_indices:\n",
    "        mean_tfidf_ham.append([])\n",
    "    \n",
    "    for i in range(n_clusters):\n",
    "        for j, spam_idx in enumerate(spam_indices):\n",
    "            mean_tfidf_spam[j].append(X[predicted==i, spam_idx].mean())\n",
    "        for j, ham_idx in enumerate(ham_indices):\n",
    "            mean_tfidf_ham[j].append(X[predicted==i, ham_idx].mean())\n",
    "    \n",
    "    # Generate plot\n",
    "    fig, ax = plt.subplots()\n",
    "\n",
    "    ind = np.arange(n_clusters)    # the x locations for the groups\n",
    "    width = 0.10         # the width of the bars\n",
    "\n",
    "    # Plot spam bars\n",
    "    for i, val in enumerate(mean_tfidf_spam):\n",
    "        spam_bar = ax.bar(ind - (len(mean_tfidf_spam)-i-1)*width, val, width, color='r', bottom=0)\n",
    "\n",
    "    # Plot ham bars\n",
    "    for i, val in enumerate(mean_tfidf_ham):\n",
    "        ham_bar = ax.bar(ind + (len(mean_tfidf_ham)-i)*width, val, width,\n",
    "                color='y', bottom=0)\n",
    "\n",
    "    ax.set_title('Mean TF-IDF Features by Cluster for Spam-Relevant Words')\n",
    "    ax.set_xticks(ind + width / 2)\n",
    "    xticklabels = []\n",
    "    for i in range(n_clusters):\n",
    "        xticklabels.append('Cluster ' + str(i) + '\\n(n=' + str((predicted==i).sum()) + ')')\n",
    "    ax.set_xticklabels(xticklabels)\n",
    "\n",
    "    ax.legend((spam_bar[0], ham_bar[0]), ('Spammy words', 'Hammy words'))\n",
    "    ax.autoscale_view()\n",
    "    ax.set_ylabel('Mean TF-IDF')\n",
    "    plt.show()"
   ]
  },
  {
   "cell_type": "code",
   "execution_count": 45,
   "metadata": {},
   "outputs": [
    {
     "data": {
      "image/png": "[encoded data removed]",
      "text/plain": [
       "<Figure size 432x288 with 1 Axes>"
      ]
     },
     "metadata": {},
     "output_type": "display_data"
    }
   ],
   "source": [
    "m = sorted(unique_words)\n",
    "\n",
    "spammy_words = ['click','www','offer']\n",
    "hammy_words = ['progress','review','meeting']\n",
    "\n",
    "\n",
    "\n",
    "ham_indices = []\n",
    "spam_indices = []\n",
    "\n",
    "#print(m)\n",
    "#print(vocabulary)\n",
    "\n",
    "\n",
    "ham_indices = [vocabulary[x] for x in spammy_words]\n",
    "spam_indices = [vocabulary[x] for x in hammy_words]\n",
    "\n",
    "#ham_indices\n",
    "#spam_indices\n",
    "#print(vocabulary.items())  \n",
    "\n",
    "n_clusters = 3\n",
    "###Passing through code\n",
    "plot_spam_words_by_cluster(gmm_cluster_assignments, n_clusters, spam_indices, ham_indices)\n"
   ]
  },
  {
   "cell_type": "markdown",
   "metadata": {},
   "source": [
    "The three main clusters are detailed. It looks like cluster 1 and 2 have hammy words.\n",
    "Spammy words are mainly in cluster 0.\n"
   ]
  },
  {
   "cell_type": "markdown",
   "metadata": {},
   "source": [
    "## 4 : Changing Cluster Size"
   ]
  },
  {
   "cell_type": "markdown",
   "metadata": {},
   "source": [
    "Here we change the cluster size to 5. We have predifined words that we think would qualify as Spammy and not spammy(Hammy) words. This visual is very subjective to the words we choose."
   ]
  },
  {
   "cell_type": "code",
   "execution_count": 47,
   "metadata": {},
   "outputs": [
    {
     "data": {
      "image/png": "[encoded data removed]",
      "text/plain": [
       "<Figure size 432x288 with 1 Axes>"
      ]
     },
     "metadata": {},
     "output_type": "display_data"
    }
   ],
   "source": [
    "#From my results, it looks like cluster 2 corresponds to spammy words, \n",
    "#and cluster 0 corresponds to spammy words\n",
    "\n",
    "gmm2 = GaussianMixture(n_components=5,  random_state=0)\n",
    "gmm2.fit(X)\n",
    "\n",
    "gmm_cluster_assignments2 = gmm2.predict(X)\n",
    "\n",
    "plot_spam_words_by_cluster(gmm_cluster_assignments2, 5, spam_indices, ham_indices)\n",
    "\n"
   ]
  },
  {
   "cell_type": "markdown",
   "metadata": {},
   "source": [
    "It looks like now there are two prominent clusters for spammy words, 3 & 4, and hammy words are in cluster 2"
   ]
  },
  {
   "cell_type": "markdown",
   "metadata": {},
   "source": [
    "## Project 2: Latent \"Purposes\" in Mobile Apps\n",
    "\n",
    "\n",
    "Here we take a list of Android applications as \"documents\", where \"words\" are the \"permissions\" that each app requests. Each app has a set of latent \"purposes\" (topics); a \"purpose\" may be a specific task (such as taking photographs and uploading them to the internet), and an application may have a mixture of purposes of varying strength.\n",
    "\n",
    "Here we want to uncover these purposes from a dataset of Android applications and the permissions they request."
   ]
  },
  {
   "cell_type": "code",
   "execution_count": 56,
   "metadata": {},
   "outputs": [],
   "source": [
    "import numpy as np\n",
    "import matplotlib.pyplot as plt\n",
    "import pandas as pd\n",
    "%matplotlib inline"
   ]
  },
  {
   "cell_type": "markdown",
   "metadata": {},
   "source": [
    "### 1 : Load the data"
   ]
  },
  {
   "cell_type": "markdown",
   "metadata": {},
   "source": [
    "The [dataset](http://www.mariofrank.net/andrApps/) contains ~180,000 applications from the Android app store, including each app's name, description and permissions requested. For more about Android app permissions, see [this report](http://www.pewinternet.org/2015/11/10/an-analysis-of-android-app-permissions/).\n",
    "\n",
    "   * Download the data and unzip it into the same folder as this notebook.\n",
    "   * Rename the CSV file to \"android.csv\".\n",
    "   * Run the cells below to load the data into the notebook.\n",
    "\n",
    "This may take up ~2GB of RAM."
   ]
  },
  {
   "cell_type": "code",
   "execution_count": 58,
   "metadata": {},
   "outputs": [],
   "source": [
    "df = pd.read_csv(\"android.csv\", sep=\",\",  thousands=\",\")"
   ]
  },
  {
   "cell_type": "code",
   "execution_count": 59,
   "metadata": {},
   "outputs": [],
   "source": [
    "df[\"Number of ratings\"] = df[\"Number of ratings\"].astype(int) # fix data type\n",
    "df = df.drop_duplicates(subset=[\"App\"]).reset_index(drop=True)"
   ]
  },
  {
   "cell_type": "code",
   "execution_count": 60,
   "metadata": {},
   "outputs": [
    {
     "data": {
      "text/html": [
       "<div>\n",
       "<style>\n",
       "    .dataframe thead tr:only-child th {\n",
       "        text-align: right;\n",
       "    }\n",
       "\n",
       "    .dataframe thead th {\n",
       "        text-align: left;\n",
       "    }\n",
       "\n",
       "    .dataframe tbody tr th {\n",
       "        vertical-align: top;\n",
       "    }\n",
       "</style>\n",
       "<table border=\"1\" class=\"dataframe\">\n",
       "  <thead>\n",
       "    <tr style=\"text-align: right;\">\n",
       "      <th></th>\n",
       "      <th>App</th>\n",
       "      <th>Package</th>\n",
       "      <th>Category</th>\n",
       "      <th>Description</th>\n",
       "      <th>Rating</th>\n",
       "      <th>Number of ratings</th>\n",
       "      <th>Price</th>\n",
       "      <th>Related apps</th>\n",
       "      <th>Dangerous permissions count</th>\n",
       "      <th>Safe permissions count</th>\n",
       "      <th>...</th>\n",
       "      <th>Your personal information : read Browser's history and bookmarks (D)</th>\n",
       "      <th>Your personal information : read calendar events (D)</th>\n",
       "      <th>Your personal information : read contact data (D)</th>\n",
       "      <th>Your personal information : read sensitive log data (D)</th>\n",
       "      <th>Your personal information : read user defined dictionary (D)</th>\n",
       "      <th>Your personal information : retrieve system internal state (S)</th>\n",
       "      <th>Your personal information : set alarm in alarm clock (S)</th>\n",
       "      <th>Your personal information : write Browser's history and bookmarks (D)</th>\n",
       "      <th>Your personal information : write contact data (D)</th>\n",
       "      <th>Your personal information : write to user defined dictionary (S)</th>\n",
       "    </tr>\n",
       "  </thead>\n",
       "  <tbody>\n",
       "    <tr>\n",
       "      <th>0</th>\n",
       "      <td>Google Maps</td>\n",
       "      <td>com.google.android.apps.maps</td>\n",
       "      <td>Travel &amp; Local</td>\n",
       "      <td>Download the latest release of Google Maps, an...</td>\n",
       "      <td>4.4</td>\n",
       "      <td>1438259</td>\n",
       "      <td>$0.00</td>\n",
       "      <td>{com.jsdfproductions.ctatrackerpro, com.alk.co...</td>\n",
       "      <td>17.0</td>\n",
       "      <td>8</td>\n",
       "      <td>...</td>\n",
       "      <td>0</td>\n",
       "      <td>0</td>\n",
       "      <td>1</td>\n",
       "      <td>0</td>\n",
       "      <td>0</td>\n",
       "      <td>0</td>\n",
       "      <td>0</td>\n",
       "      <td>0</td>\n",
       "      <td>1</td>\n",
       "      <td>0</td>\n",
       "    </tr>\n",
       "    <tr>\n",
       "      <th>1</th>\n",
       "      <td>Snowfall Live Wallpaper</td>\n",
       "      <td>fishnoodle.snowfall_free</td>\n",
       "      <td>Personalization</td>\n",
       "      <td>Snowfall Live Wallpaper: Wintertime on your ho...</td>\n",
       "      <td>4.3</td>\n",
       "      <td>18147</td>\n",
       "      <td>$0.00</td>\n",
       "      <td>{colfore.wallpaper.snowfree, com.tabsoft.wallp...</td>\n",
       "      <td>0.0</td>\n",
       "      <td>0</td>\n",
       "      <td>...</td>\n",
       "      <td>0</td>\n",
       "      <td>0</td>\n",
       "      <td>0</td>\n",
       "      <td>0</td>\n",
       "      <td>0</td>\n",
       "      <td>0</td>\n",
       "      <td>0</td>\n",
       "      <td>0</td>\n",
       "      <td>0</td>\n",
       "      <td>0</td>\n",
       "    </tr>\n",
       "    <tr>\n",
       "      <th>2</th>\n",
       "      <td>Aquarium Live Wallpaper</td>\n",
       "      <td>fishnoodle.aquarium_free</td>\n",
       "      <td>Personalization</td>\n",
       "      <td>A beautiful tropical fish tank live wallpaper!...</td>\n",
       "      <td>4.1</td>\n",
       "      <td>62145</td>\n",
       "      <td>$0.00</td>\n",
       "      <td>{com.convisual.lwp.fishometerlite, com.accessl...</td>\n",
       "      <td>0.0</td>\n",
       "      <td>0</td>\n",
       "      <td>...</td>\n",
       "      <td>0</td>\n",
       "      <td>0</td>\n",
       "      <td>0</td>\n",
       "      <td>0</td>\n",
       "      <td>0</td>\n",
       "      <td>0</td>\n",
       "      <td>0</td>\n",
       "      <td>0</td>\n",
       "      <td>0</td>\n",
       "      <td>0</td>\n",
       "    </tr>\n",
       "  </tbody>\n",
       "</table>\n",
       "<p>3 rows × 183 columns</p>\n",
       "</div>"
      ],
      "text/plain": [
       "                       App                       Package         Category  \\\n",
       "0              Google Maps  com.google.android.apps.maps   Travel & Local   \n",
       "1  Snowfall Live Wallpaper      fishnoodle.snowfall_free  Personalization   \n",
       "2  Aquarium Live Wallpaper      fishnoodle.aquarium_free  Personalization   \n",
       "\n",
       "                                         Description  Rating  \\\n",
       "0  Download the latest release of Google Maps, an...     4.4   \n",
       "1  Snowfall Live Wallpaper: Wintertime on your ho...     4.3   \n",
       "2  A beautiful tropical fish tank live wallpaper!...     4.1   \n",
       "\n",
       "   Number of ratings  Price  \\\n",
       "0            1438259  $0.00   \n",
       "1              18147  $0.00   \n",
       "2              62145  $0.00   \n",
       "\n",
       "                                        Related apps  \\\n",
       "0  {com.jsdfproductions.ctatrackerpro, com.alk.co...   \n",
       "1  {colfore.wallpaper.snowfree, com.tabsoft.wallp...   \n",
       "2  {com.convisual.lwp.fishometerlite, com.accessl...   \n",
       "\n",
       "   Dangerous permissions count  Safe permissions count  \\\n",
       "0                         17.0                       8   \n",
       "1                          0.0                       0   \n",
       "2                          0.0                       0   \n",
       "\n",
       "                                 ...                                 \\\n",
       "0                                ...                                  \n",
       "1                                ...                                  \n",
       "2                                ...                                  \n",
       "\n",
       "   Your personal information : read Browser's history and bookmarks (D)  \\\n",
       "0                                                  0                      \n",
       "1                                                  0                      \n",
       "2                                                  0                      \n",
       "\n",
       "   Your personal information : read calendar events (D)  \\\n",
       "0                                                  0      \n",
       "1                                                  0      \n",
       "2                                                  0      \n",
       "\n",
       "   Your personal information : read contact data (D)  \\\n",
       "0                                                  1   \n",
       "1                                                  0   \n",
       "2                                                  0   \n",
       "\n",
       "   Your personal information : read sensitive log data (D)  \\\n",
       "0                                                  0         \n",
       "1                                                  0         \n",
       "2                                                  0         \n",
       "\n",
       "   Your personal information : read user defined dictionary (D)  \\\n",
       "0                                                  0              \n",
       "1                                                  0              \n",
       "2                                                  0              \n",
       "\n",
       "   Your personal information : retrieve system internal state (S)  \\\n",
       "0                                                  0                \n",
       "1                                                  0                \n",
       "2                                                  0                \n",
       "\n",
       "   Your personal information : set alarm in alarm clock (S)  \\\n",
       "0                                                  0          \n",
       "1                                                  0          \n",
       "2                                                  0          \n",
       "\n",
       "   Your personal information : write Browser's history and bookmarks (D)  \\\n",
       "0                                                  0                       \n",
       "1                                                  0                       \n",
       "2                                                  0                       \n",
       "\n",
       "   Your personal information : write contact data (D)  \\\n",
       "0                                                  1    \n",
       "1                                                  0    \n",
       "2                                                  0    \n",
       "\n",
       "   Your personal information : write to user defined dictionary (S)  \n",
       "0                                                  0                 \n",
       "1                                                  0                 \n",
       "2                                                  0                 \n",
       "\n",
       "[3 rows x 183 columns]"
      ]
     },
     "execution_count": 60,
     "metadata": {},
     "output_type": "execute_result"
    }
   ],
   "source": [
    "df.head(n=3)"
   ]
  },
  {
   "cell_type": "markdown",
   "metadata": {},
   "source": [
    "### 2 : Convert each app into a \"document\" \n",
    "\n",
    "The code below does the following:\n",
    "\n",
    "   * Filter out all the columns except the permission columns.\n",
    "   * Convert this dataframe into a numpy matrix.\n",
    "\n",
    "There are thus 180295 apps (documents) and 173 permissions (words).\n",
    "\n",
    "   - `X` is the \"document\" or \"word-frequency\" matrix.\n",
    "   - `permission_columns` contains the words ordered by their column index in X.\n",
    "   - `app_names` contains the application names ordered by their row index in X.\n",
    "   - `app_ratings` contains the *number* of application ratings (not the ratings themselves)."
   ]
  },
  {
   "cell_type": "code",
   "execution_count": 61,
   "metadata": {},
   "outputs": [],
   "source": [
    "permission_columns = list(df.columns[10:])\n",
    "app_names = list(df[\"App\"])\n",
    "app_ratings = np.array(df[\"Number of ratings\"])\n",
    "df_perms = df[permission_columns]\n",
    "X = df_perms.as_matrix()\n",
    "#del df # uncomment to free up RAM\n",
    "#del df_perms # uncomment to free up RAM"
   ]
  },
  {
   "cell_type": "code",
   "execution_count": 62,
   "metadata": {},
   "outputs": [
    {
     "data": {
      "text/plain": [
       "(180295, 173)"
      ]
     },
     "execution_count": 62,
     "metadata": {},
     "output_type": "execute_result"
    }
   ],
   "source": [
    "X.shape"
   ]
  },
  {
   "cell_type": "markdown",
   "metadata": {},
   "source": [
    "### 3 : Downweight \"stop-words\"\n",
    "\n",
    "There are some permissions requested by almost all applications (like \"INTERNET\"), they are similar to stop-words (\"the\", \"and\", etc.) in natural language. We can downweight them by TF-IDF normalization.\n",
    "\n",
    "   * Used the `TfidfTransformer` class in `scikit-learn` to transform X."
   ]
  },
  {
   "cell_type": "code",
   "execution_count": 63,
   "metadata": {},
   "outputs": [
    {
     "data": {
      "text/plain": [
       "(180295, 173)"
      ]
     },
     "execution_count": 63,
     "metadata": {},
     "output_type": "execute_result"
    }
   ],
   "source": [
    "from sklearn.feature_extraction.text import TfidfTransformer\n",
    "\n",
    "normalized_X = TfidfTransformer().fit_transform(X)\n",
    "\n",
    "normalized_X.toarray().shape"
   ]
  },
  {
   "cell_type": "markdown",
   "metadata": {},
   "source": [
    "### 4 : Discover 10 \"topics\" \n",
    "\n",
    "   * Used the `LatentDirichletAllocation` class in `scikit-learn` to fit 10 topics to the data.\n",
    "   * Used 10 max iterations, set `n_jobs=-1` to use all cores on  machine.\n"
   ]
  },
  {
   "cell_type": "code",
   "execution_count": 64,
   "metadata": {},
   "outputs": [
    {
     "name": "stderr",
     "output_type": "stream",
     "text": [
      "/Users/ericacollins/anaconda3/lib/python3.6/site-packages/sklearn/decomposition/online_lda.py:536: DeprecationWarning: The default value for 'learning_method' will be changed from 'online' to 'batch' in the release 0.20. This warning was introduced in 0.18.\n",
      "  DeprecationWarning)\n"
     ]
    },
    {
     "name": "stdout",
     "output_type": "stream",
     "text": [
      "CPU times: user 29.8 s, sys: 1.85 s, total: 31.6 s\n",
      "Wall time: 3min 16s\n"
     ]
    }
   ],
   "source": [
    "%%time\n",
    "from sklearn.decomposition import LatentDirichletAllocation\n",
    "\n",
    "lda = LatentDirichletAllocation(n_components=10,max_iter = 10 ,n_jobs=-1)\n",
    "\n",
    "output = lda.fit(normalized_X) "
   ]
  },
  {
   "cell_type": "markdown",
   "metadata": {},
   "source": [
    "Now each app can be viewed as a distribution over these 10 topics, and each topic is a distribution over all the permissions in the data."
   ]
  },
  {
   "cell_type": "markdown",
   "metadata": {},
   "source": [
    "### 5 : List the top 10 \"words\" in each topic\n",
    "\n"
   ]
  },
  {
   "cell_type": "code",
   "execution_count": 156,
   "metadata": {},
   "outputs": [
    {
     "name": "stdout",
     "output_type": "stream",
     "text": [
      "Topic 0:\n",
      "Services that cost you money : directly call phone numbers (D): probability 0.218069\n",
      "Your personal information : read contact data (D): probability 0.191749\n",
      "Services that cost you money : send SMS messages (D): probability 0.124778\n",
      "Your messages : receive SMS (D): probability 0.078961\n",
      "Your messages : read SMS or MMS (D): probability 0.071104\n",
      "Your personal information : write contact data (D): probability 0.064237\n",
      "Your messages : edit SMS or MMS (D): probability 0.054587\n",
      "Phone calls : read phone state and identity (D): probability 0.046282\n",
      "Network communication : full Internet access (D): probability 0.044036\n",
      "Phone calls : intercept outgoing calls (D): probability 0.030948\n",
      "Topic 1:\n",
      "Your location : fine (GPS) location (D): probability 0.223996\n",
      "Your location : coarse (network-based) location (D): probability 0.222170\n",
      "Network communication : full Internet access (D): probability 0.135842\n",
      "Network communication : view network state (S): probability 0.101068\n",
      "System tools : automatically start at boot (S): probability 0.079920\n",
      "Phone calls : read phone state and identity (D): probability 0.078610\n",
      "Storage : modify/delete USB storage contents modify/delete SD card contents (D): probability 0.051636\n",
      "Hardware controls : control vibrator (S): probability 0.047064\n",
      "Hardware controls : control flashlight (S): probability 0.021277\n",
      "Your personal information : read Browser's history and bookmarks (D): probability 0.019129\n",
      "Topic 2:\n",
      "Hardware controls : control vibrator (S): probability 0.579592\n",
      "Network communication : full Internet access (D): probability 0.170046\n",
      "Network communication : view network state (S): probability 0.114339\n",
      "Storage : modify/delete USB storage contents modify/delete SD card contents (D): probability 0.062450\n",
      "Phone calls : read phone state and identity (D): probability 0.054090\n",
      "System tools : expand/collapse status bar (S): probability 0.011288\n",
      "Your personal information : choose widgets (S): probability 0.004269\n",
      "System tools : set wallpaper size hints (S): probability 0.000024\n",
      "System tools : prevent device from sleeping (D): probability 0.000024\n",
      "System tools : automatically start at boot (S): probability 0.000024\n",
      "Topic 3:\n",
      "System tools : modify global system settings (D): probability 0.408834\n",
      "System tools : mount and unmount filesystems (D): probability 0.198195\n",
      "Storage : modify/delete USB storage contents modify/delete SD card contents (D): probability 0.096153\n",
      "System tools : display system-level alerts (D): probability 0.085395\n",
      "Network communication : full Internet access (D): probability 0.057191\n",
      "Network communication : view network state (S): probability 0.055297\n",
      "System tools : allow Wi-Fi Multicast reception (D): probability 0.052169\n",
      "Default : press keys and control buttons (S): probability 0.008954\n",
      "Default : display unauthorized windows (S): probability 0.005514\n",
      "Default : modify the Google services map (S): probability 0.003749\n",
      "Topic 4:\n",
      "System tools : set wallpaper (S): probability 0.158574\n",
      "Network communication : view Wi-Fi state (S): probability 0.154206\n",
      "Network communication : view network state (S): probability 0.106871\n",
      "Network communication : full Internet access (D): probability 0.091744\n",
      "System tools : retrieve running applications (D): probability 0.088949\n",
      "Storage : modify/delete USB storage contents modify/delete SD card contents (D): probability 0.088093\n",
      "Phone calls : read phone state and identity (D): probability 0.076340\n",
      "System tools : change Wi-Fi state (D): probability 0.039701\n",
      "Network communication : create Bluetooth connections (D): probability 0.033816\n",
      "System tools : bluetooth administration (D): probability 0.029092\n",
      "Topic 5:\n",
      "Network communication : full Internet access (D): probability 0.701178\n",
      "Network communication : view network state (S): probability 0.279486\n",
      "System tools : set wallpaper size hints (S): probability 0.017422\n",
      "System tools : set wallpaper (S): probability 0.000011\n",
      "Your personal information : choose widgets (S): probability 0.000011\n",
      "System tools : expand/collapse status bar (S): probability 0.000011\n",
      "System tools : set preferred applications (S): probability 0.000011\n",
      "Default : bind to a wallpaper (S): probability 0.000011\n",
      "Hardware controls : control vibrator (S): probability 0.000011\n",
      "Services that cost you money : directly call phone numbers (D): probability 0.000011\n",
      "Topic 6:\n",
      "Storage : modify/delete USB storage contents modify/delete SD card contents (D): probability 0.367147\n",
      "Network communication : full Internet access (D): probability 0.230371\n",
      "Phone calls : read phone state and identity (D): probability 0.217318\n",
      "Network communication : view network state (S): probability 0.182956\n",
      "Your accounts : discover known accounts (S): probability 0.000013\n",
      "Your personal information : read contact data (D): probability 0.000013\n",
      "System tools : prevent device from sleeping (D): probability 0.000013\n",
      "Your location : coarse (network-based) location (D): probability 0.000013\n",
      "Your location : fine (GPS) location (D): probability 0.000013\n",
      "Services that cost you money : directly call phone numbers (D): probability 0.000013\n",
      "Topic 7:\n",
      "Hardware controls : record audio (D): probability 0.056130\n",
      "Your accounts : discover known accounts (S): probability 0.055306\n",
      "System tools : prevent device from sleeping (D): probability 0.054743\n",
      "Network communication : view network state (S): probability 0.050884\n",
      "Storage : modify/delete USB storage contents modify/delete SD card contents (D): probability 0.050436\n",
      "Network communication : full Internet access (D): probability 0.047655\n",
      "Network communication : receive data from Internet (S): probability 0.046299\n",
      "Your location : fine (GPS) location (D): probability 0.046200\n",
      "Phone calls : read phone state and identity (D): probability 0.045722\n",
      "Hardware controls : control vibrator (S): probability 0.045554\n",
      "Topic 8:\n",
      "System tools : prevent device from sleeping (D): probability 0.417233\n",
      "Network communication : full Internet access (D): probability 0.108752\n",
      "Storage : modify/delete USB storage contents modify/delete SD card contents (D): probability 0.093112\n",
      "Network communication : view network state (S): probability 0.092046\n",
      "Phone calls : read phone state and identity (D): probability 0.073241\n",
      "Network communication : view Wi-Fi state (S): probability 0.062613\n",
      "System tools : kill background processes (S): probability 0.042336\n",
      "Your personal information : read sensitive log data (D): probability 0.041942\n",
      "System tools : change your UI settings (D): probability 0.029938\n",
      "System tools : send sticky broadcast (S): probability 0.021552\n",
      "Topic 9:\n",
      "Hardware controls : take pictures and videos (D): probability 0.555636\n",
      "Storage : modify/delete USB storage contents modify/delete SD card contents (D): probability 0.148222\n",
      "Network communication : full Internet access (D): probability 0.078863\n",
      "Your location : access extra location provider commands (S): probability 0.059633\n",
      "Your location : fine (GPS) location (D): probability 0.056328\n",
      "Network communication : view network state (S): probability 0.050405\n",
      "Default : delete other applications' caches (S): probability 0.013321\n",
      "Hardware controls : test hardware (S): probability 0.011935\n",
      "Default : bind to a wallpaper (S): probability 0.006748\n",
      "Default : bind to an input method (S): probability 0.004449\n"
     ]
    }
   ],
   "source": [
    "def display_topics(model, feature_names, no_top_words):\n",
    "    for topic_idx, topic in enumerate(model.components_):\n",
    "        percentage = topic/topic.sum()\n",
    "        print(\"Topic %d:\" % (topic_idx))\n",
    "        print(\"\\n\".join([feature_names[i] + ': probability %f' % percentage[i]\n",
    "                        for i in topic.argsort()[:-no_top_words - 1:-1]]))\n",
    "\n",
    "no_top_words = 10\n",
    "display_topics(lda, permission_columns, no_top_words)"
   ]
  },
  {
   "cell_type": "code",
   "execution_count": 102,
   "metadata": {},
   "outputs": [],
   "source": [
    "#lda.components_"
   ]
  },
  {
   "cell_type": "markdown",
   "metadata": {},
   "source": [
    "*** Interpreting the Topics ***\n",
    "\n",
    "Almost all of them have something to do with wallpaper and all of them have a network component so its hard to really differentiate the topics.\n",
    "Topic 9: Seems to have a lot about GPS locations and networks so I would assume that topic has something to do with connectivity. The apps that would use this batch of permissions likely need to access location and connectivity frequently.\n"
   ]
  },
  {
   "cell_type": "markdown",
   "metadata": {},
   "source": [
    "### 6 : For each topic, I list the top 3 apps with at least 100000 ratings having the highest probability assigned to that topic\n",
    "\n",
    "   - This further helps us understand what the topics actually mean.\n",
    "   - However, the data is noisy and this exercise may result in listing a bunch of obscure apps.\n",
    "   - Hence, filtering out all apps with less than 100000 ratings may help."
   ]
  },
  {
   "cell_type": "code",
   "execution_count": 205,
   "metadata": {},
   "outputs": [
    {
     "name": "stdout",
     "output_type": "stream",
     "text": [
      "Topic #0:\n",
      "\tOptiCaller -- proportion in topic 0: 0.783784\n",
      "\tUltimate Secret Box -- proportion in topic 0: 0.780913\n",
      "\tNumber hunter -- proportion in topic 0: 0.765158\n",
      "\n",
      "Topic #1:\n",
      "\tYouTube Live WallpaperLite -- proportion in topic 1: 0.775754\n",
      "\t로또시뮬레이터lite -- proportion in topic 1: 0.775754\n",
      "\tArtist Picture Trivia -- proportion in topic 1: 0.768211\n",
      "\n",
      "Topic #2:\n",
      "\tPowerCam Mobile -- proportion in topic 2: 0.693880\n",
      "\tShall we date?:Heian Love -- proportion in topic 2: 0.693880\n",
      "\tDeal Drop -- proportion in topic 2: 0.693880\n",
      "\n",
      "Topic #3:\n",
      "\tHot Stripper Girl Vol.1 -- proportion in topic 3: 0.690962\n",
      "\tBlue Skull Live Wallpaper -- proportion in topic 3: 0.678421\n",
      "\tColor Splash Photo -- proportion in topic 3: 0.678421\n",
      "\n",
      "Topic #4:\n",
      "\tOcean Bubble (HD) -- proportion in topic 4: 0.776406\n",
      "\tBattery Widget Viewer -- proportion in topic 4: 0.769592\n",
      "\tMADDEN NFL 12 by EA SPORTS??? -- proportion in topic 4: 0.768595\n",
      "\n",
      "Topic #5:\n",
      "\tPool Boom N_MT -- proportion in topic 5: 0.624872\n",
      "\tTank wiki for WoT -- proportion in topic 5: 0.624872\n",
      "\tAlcoholism -- proportion in topic 5: 0.624872\n",
      "\n",
      "Topic #6:\n",
      "\tRussian Translator -- proportion in topic 6: 0.696423\n",
      "\tFlyPast Magazine -- proportion in topic 6: 0.696423\n",
      "\tQuattroruote Android Full -- proportion in topic 6: 0.696423\n",
      "\n",
      "Topic #7:\n",
      "\tNimbuzz -- proportion in topic 7: 0.841674\n",
      "\tElixir -- proportion in topic 7: 0.839366\n",
      "\tZDbox (All-In-One toolbox) -- proportion in topic 7: 0.834366\n",
      "\n",
      "Topic #8:\n",
      "\tMusic Unlimited Mobile App -- proportion in topic 8: 0.743030\n",
      "\tFruit Memory Match -- proportion in topic 8: 0.736703\n",
      "\tOnAir -- proportion in topic 8: 0.736703\n",
      "\n",
      "Topic #9:\n",
      "\tSears -- proportion in topic 9: 0.710159\n",
      "\tH&M -- proportion in topic 9: 0.710159\n",
      "\tOpen'er 2011 -- proportion in topic 9: 0.710159\n",
      "\n"
     ]
    }
   ],
   "source": [
    "df_perms\n",
    "#df\n",
    "norm_df = pd.DataFrame(normalized_X.toarray())\n",
    "\n",
    "reg_X = pd.DataFrame(X)\n",
    "\n",
    "topic_proportions = lda.transform(normalized_X)\n",
    "#norm_df\n",
    "\n",
    "def display_topics(model, feature_names, no_top_words):\n",
    "    for topic_idx, topic in enumerate(model.components_):\n",
    "        percentage = topic/topic.sum()\n",
    "        print(\"Topic %d:\" % (topic_idx))\n",
    "        print(\"\\n\".join([feature_names[i] + ': probability %f' % percentage[i]\n",
    "                        for i in topic.argsort()[:-no_top_words - 1:-1]]))\n",
    "\n",
    "no_top_words = 10\n",
    "#display_topics(lda, app_names, no_top_words)\n",
    "\n",
    "topic_proportionsdf = pd.DataFrame(topic_proportions)\n",
    "topic_proportionsdf\n",
    "#norm_df\n",
    "\n",
    "\n",
    "for i in range(10):\n",
    "    idx = np.argsort(topic_proportions[:,i])[::-1]\n",
    "    selected = app_ratings > 100000\n",
    "    print(\"Topic #\" + str(i) + \":\")\n",
    "    counter = 3\n",
    "    for app_idx in idx:\n",
    "        #print(c)\n",
    "        if counter <= 0:\n",
    "            break\n",
    "        if selected[app_idx] == True:\n",
    "            #print(\"data\", app_ratings[app_idx])\n",
    "            continue\n",
    "        app = app_names[app_idx]\n",
    "        print(\"\\t\" + app + ' -- proportion in topic %d: %f' % (i, topic_proportions[app_idx, i]))\n",
    "        counter -= 1\n",
    "    print()"
   ]
  },
  {
   "cell_type": "markdown",
   "metadata": {},
   "source": [
    "We can see from this exercise that topic 2 could be apps that need video becuase it they are dating apps. Topic 9 definitely looks like its geared towards retail apps."
   ]
  },
  {
   "cell_type": "code",
   "execution_count": 173,
   "metadata": {},
   "outputs": [],
   "source": [
    "view_components = pd.DataFrame(lda.components_)\n",
    "#view_components"
   ]
  },
  {
   "cell_type": "code",
   "execution_count": 172,
   "metadata": {},
   "outputs": [],
   "source": [
    "#print(type(lda.components_))\n",
    "#for topic_idx, topic in enumerate(lda.components_):\n",
    "   # print(\"topic \", topic_idx, \": \")\n",
    "   # print(\"\\n\".join([permission_columns[i]\n",
    "                      # for i in topic.argsort()[:-no_top_words - 1:-1]]))\n",
    "   # print(\"\\n\")\n",
    "            \n",
    "#for topic_idx, topic in enumerate(lda.components_):\n",
    "   # topic_normalized = topic / topic.sum()\n",
    "   # print(topic_normalized)\n",
    "    \n"
   ]
  },
  {
   "cell_type": "markdown",
   "metadata": {},
   "source": [
    "### 7 : Visualize the document-topic proportion matrix in 2-D using t-SNE\n",
    "\n",
    "Does our reduced dimensional space contain any structure? Now we visualize the documents (in the topic-space) using t-SNE.\n",
    "\n",
    "   * Used `TSNE` from `scikit-learn`.\n",
    "   * Set the angle to 0.99 and init to 'PCA'.\n",
    "   * `fit` TSNE to a sample of the data (>1000 documents) instead of the full data.\n",
    "\n",
    "   * Plotted the t-SNE dimensions as a scatterplot.\n",
    "   * Colored each point based on its most probable topic. Included a legend (10 colors).\n",
    "   \n",
    "Clusters in the t-SNE plot indicate groups of apps that have similar topics."
   ]
  },
  {
   "cell_type": "code",
   "execution_count": 208,
   "metadata": {},
   "outputs": [
    {
     "data": {
      "image/png": "[encoded data removed]",
      "text/plain": [
       "<Figure size 1152x720 with 1 Axes>"
      ]
     },
     "metadata": {},
     "output_type": "display_data"
    },
    {
     "name": "stdout",
     "output_type": "stream",
     "text": [
      "CPU times: user 12.4 s, sys: 1.32 s, total: 13.8 s\n",
      "Wall time: 13.5 s\n"
     ]
    }
   ],
   "source": [
    "%%time\n",
    "from sklearn.manifold import TSNE\n",
    "\n",
    "documents_split = topic_proportions[:1000,:]\n",
    "\n",
    "model = TSNE(n_components=2, angle = 0.99, init = 'pca', learning_rate=800)\n",
    "tnse_lda = model.fit_transform(documents_split)\n",
    "\n",
    "plt.figure(figsize=(16,10))\n",
    "most_probable_topic = np.argmax(topic_proportions, axis=1)[:1000]\n",
    "for t in range(10):\n",
    "    plt.plot(tnse_lda[most_probable_topic==t,0], tnse_lda[most_probable_topic==t,1], 'o',\n",
    "                 label=\"Topic #\" + str(t))\n",
    "plt.legend(loc='upper left')\n",
    "plt.title('Plot')\n",
    "plt.grid()\n",
    "plt.show()\n"
   ]
  }
 ],
 "metadata": {
  "kernelspec": {
   "display_name": "Python 3",
   "language": "python",
   "name": "python3"
  },
  "language_info": {
   "codemirror_mode": {
    "name": "ipython",
    "version": 3
   },
   "file_extension": ".py",
   "mimetype": "text/x-python",
   "name": "python",
   "nbconvert_exporter": "python",
   "pygments_lexer": "ipython3",
   "version": "3.6.8"
  }
 },
 "nbformat": 4,
 "nbformat_minor": 2
}
